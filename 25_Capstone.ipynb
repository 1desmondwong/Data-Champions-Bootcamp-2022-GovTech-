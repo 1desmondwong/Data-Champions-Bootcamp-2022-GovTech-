{
 "cells": [
  {
   "cell_type": "markdown",
   "metadata": {
    "deletable": false,
    "editable": false,
    "tags": []
   },
   "source": [
    "# Graduation CheckPoint: <br>    Part 2 - Machine Learning\n",
    "---"
   ]
  },
  {
   "cell_type": "markdown",
   "metadata": {
    "deletable": false,
    "editable": false,
    "id": "4Zk5YNN8ZTfJ",
    "tags": [],
    "trust": true
   },
   "source": [
    "---\n",
    "⚠️**Notebook Instruction:**\n",
    "- This is an open-book test. You may refer to previous notes or internet sources at any point during the test.\n",
    "- You are forbidden to share or discuss any questions/solutions with other students.\n",
    "- If you need to seek for any clarifications, you may privately message the trainers.  \n",
    "\n",
    "\n",
    "- Feel free to insert additional cell(s) as you need.\n",
    "- You may import any packages that you need. \n",
    "- You may create additional variables, columns, or object in this notebook to derive at your solution. \n",
    "- If not specifed, you may use any name for your variable or column.\n",
    "- If any expected output is provided, you are ought to remove any additional columns that is not included in the expected output. Failure in doing so, will result in reduction of marks.\n",
    "- Partial marks may be awarded for working cells even if the answer is incomplete or incorrect.\n",
    "\n",
    "\n",
    "- See the end of this notebook for the **submission instruction**.\n",
    "- ⬇️ Enter your name as a string in cell below."
   ]
  },
  {
   "cell_type": "markdown",
   "metadata": {},
   "source": [
    "---"
   ]
  },
  {
   "cell_type": "code",
   "execution_count": null,
   "metadata": {},
   "outputs": [],
   "source": [
    "Name = \"FILL YOUR NAME HERE\""
   ]
  },
  {
   "cell_type": "code",
   "execution_count": null,
   "metadata": {},
   "outputs": [],
   "source": [
    "# pip come from pure python\n",
    "!pip install pandas==1.3 (dependencies numpy)\n",
    "\n",
    "dtale --> require pandas < 1.2"
   ]
  },
  {
   "cell_type": "code",
   "execution_count": null,
   "metadata": {},
   "outputs": [],
   "source": [
    "# specific to Anaconda Python\n",
    "# conda install more sophisticated, it check for compatbility \n",
    "# Very strict when come compatibility (run for very long and maynot allow you to install )\n",
    "!conda install pandas"
   ]
  },
  {
   "cell_type": "markdown",
   "metadata": {},
   "source": [
    "---"
   ]
  },
  {
   "cell_type": "markdown",
   "metadata": {},
   "source": [
    "<!--TABLE OF CONTENTS-->\n",
    "# Table of Contents:\n",
    "- [Graduation CheckPoint: <br>    Part 2 - Machine Learning](#Graduation-CheckPoint:-<br>----Part-2---Machine-Learning)\n",
    "- [0.0 Import Packages, Configure Notebook](#0.0-Import-Packages,-Configure-Notebook)\n",
    "- [1.0 Loading Data](#1.0-Loading-Data)\n",
    "  - [1.1 Loading HDB_Resales records](#1.1-Loading-HDB_Resales-records)\n",
    "  - [1.2 Loading \"Facilities_Distance\" data](#1.2-Loading-\"Facilities_Distance\"-data)\n",
    "  - [1.3 Loading \"HDB Type Sold Count\" data](#1.3-Loading-\"HDB-Type-Sold-Count\"-data)\n",
    "- [2.0 Data Processing](#2.0-Data-Processing)\n",
    "  - [2.1 Calculate Percentage of the Unit's Flat Type](#2.1-Calculate-Percentage-of-the-Unit's-Flat-Type)\n",
    "  - [2.2 Comparing Floor Size to Average of the same Flat Type and Flat Model](#2.2-Comparing-Floor-Size-to-Average-of-the-same-Flat-Type-and-Flat-Model)\n",
    "  - [2.2 Process and Merge \"Facilities_Distance\" data](#2.2-Process-and-Merge-\"Facilities_Distance\"-data)\n",
    "- [3 Feature Engineering](#3-Feature-Engineering)\n",
    "  - [3.1 Creating Dummy Variables](#3.1-Creating-Dummy-Variables)\n",
    "- [4.0 Modeling](#4.0-Modeling)\n",
    "  - [4.1 Specifying the Features and Splitting the Data](#4.1-Specifying-the-Features-and-Splitting-the-Data)\n",
    "  - [4.2 Modeling Training and Testing](#4.2-Modeling-Training-and-Testing)\n",
    "- [Bonus Question](#Bonus-Question)"
   ]
  },
  {
   "cell_type": "markdown",
   "metadata": {},
   "source": [
    "---"
   ]
  },
  {
   "cell_type": "markdown",
   "metadata": {},
   "source": [
    "# 0.0 Import Packages, Configure Notebook"
   ]
  },
  {
   "cell_type": "code",
   "execution_count": 1,
   "metadata": {},
   "outputs": [],
   "source": [
    "import numpy as np\n",
    "import pandas as pd"
   ]
  },
  {
   "cell_type": "code",
   "execution_count": 2,
   "metadata": {},
   "outputs": [],
   "source": [
    "# Settings for Matplotlib (& Seaborn)\n",
    "%matplotlib inline\n",
    "%config InlineBackend.figure_format = 'retina'\n",
    "\n",
    "# Import libraries for charting\n",
    "import matplotlib as mpl\n",
    "import matplotlib.pyplot as plt\n",
    "import seaborn as sns\n",
    "\n",
    "# Set the size of charts\n",
    "plt.rc('figure', figsize=(16,9))\n",
    "plt.style.use('fivethirtyeight')\n",
    "sns.set_context(context={'figure.figsize': (16,9)})"
   ]
  },
  {
   "cell_type": "markdown",
   "metadata": {
    "tags": []
   },
   "source": [
    "# 1.0 Loading Data"
   ]
  },
  {
   "cell_type": "markdown",
   "metadata": {
    "tags": []
   },
   "source": [
    "## 1.1 Loading HDB_Resales records"
   ]
  },
  {
   "cell_type": "markdown",
   "metadata": {},
   "source": [
    "⚠️ All raw data are in the **00_raw_data** folder\n",
    "\n",
    "---"
   ]
  },
  {
   "cell_type": "markdown",
   "metadata": {
    "tags": []
   },
   "source": [
    "> Read the csv file **hdb_resale_with_info.csv** into a variable **df**."
   ]
  },
  {
   "cell_type": "code",
   "execution_count": 3,
   "metadata": {},
   "outputs": [],
   "source": [
    "df = pd.read_csv('../00_raw_data/hdb_resale_with_info.csv')"
   ]
  },
  {
   "cell_type": "code",
   "execution_count": 4,
   "metadata": {},
   "outputs": [
    {
     "name": "stdout",
     "output_type": "stream",
     "text": [
      "<class 'pandas.core.frame.DataFrame'>\n",
      "RangeIndex: 133769 entries, 0 to 133768\n",
      "Data columns (total 19 columns):\n",
      " #   Column                 Non-Null Count   Dtype  \n",
      "---  ------                 --------------   -----  \n",
      " 0   Tranc_Year             133769 non-null  int64  \n",
      " 1   Tranc_Month            133769 non-null  int64  \n",
      " 2   town                   133769 non-null  object \n",
      " 3   flat_type              133769 non-null  object \n",
      " 4   storey_range           133769 non-null  object \n",
      " 5   floor_area_sqm         133769 non-null  float64\n",
      " 6   flat_model             133769 non-null  object \n",
      " 7   lease_commence_date    133769 non-null  int64  \n",
      " 8   resale_price           133769 non-null  float64\n",
      " 9   storey_range_midpoint  133769 non-null  int64  \n",
      " 10  floor_area_sqft        133769 non-null  float64\n",
      " 11  age_approx             133769 non-null  int64  \n",
      " 12  address                133769 non-null  object \n",
      " 13  max_floor_lvl          133769 non-null  int64  \n",
      " 14  year_completed         133769 non-null  int64  \n",
      " 15  residential            133769 non-null  object \n",
      " 16  commercial             133769 non-null  object \n",
      " 17  storey_relative        133769 non-null  float64\n",
      " 18  flat_type_numerized    133769 non-null  int64  \n",
      "dtypes: float64(4), int64(8), object(7)\n",
      "memory usage: 19.4+ MB\n"
     ]
    }
   ],
   "source": [
    "df.info()"
   ]
  },
  {
   "cell_type": "code",
   "execution_count": 5,
   "metadata": {},
   "outputs": [
    {
     "data": {
      "text/html": [
       "<div>\n",
       "<style scoped>\n",
       "    .dataframe tbody tr th:only-of-type {\n",
       "        vertical-align: middle;\n",
       "    }\n",
       "\n",
       "    .dataframe tbody tr th {\n",
       "        vertical-align: top;\n",
       "    }\n",
       "\n",
       "    .dataframe thead th {\n",
       "        text-align: right;\n",
       "    }\n",
       "</style>\n",
       "<table border=\"1\" class=\"dataframe\">\n",
       "  <thead>\n",
       "    <tr style=\"text-align: right;\">\n",
       "      <th></th>\n",
       "      <th>Tranc_Year</th>\n",
       "      <th>Tranc_Month</th>\n",
       "      <th>town</th>\n",
       "      <th>flat_type</th>\n",
       "      <th>storey_range</th>\n",
       "      <th>floor_area_sqm</th>\n",
       "      <th>flat_model</th>\n",
       "      <th>lease_commence_date</th>\n",
       "      <th>resale_price</th>\n",
       "      <th>storey_range_midpoint</th>\n",
       "      <th>floor_area_sqft</th>\n",
       "      <th>age_approx</th>\n",
       "      <th>address</th>\n",
       "      <th>max_floor_lvl</th>\n",
       "      <th>year_completed</th>\n",
       "      <th>residential</th>\n",
       "      <th>commercial</th>\n",
       "      <th>storey_relative</th>\n",
       "      <th>flat_type_numerized</th>\n",
       "    </tr>\n",
       "  </thead>\n",
       "  <tbody>\n",
       "    <tr>\n",
       "      <th>133607</th>\n",
       "      <td>2021</td>\n",
       "      <td>4</td>\n",
       "      <td>PUNGGOL</td>\n",
       "      <td>3 ROOM</td>\n",
       "      <td>10 TO 12</td>\n",
       "      <td>68.0</td>\n",
       "      <td>Model A</td>\n",
       "      <td>2017</td>\n",
       "      <td>360000.0</td>\n",
       "      <td>11</td>\n",
       "      <td>731.9452</td>\n",
       "      <td>5</td>\n",
       "      <td>122A, EDGEDALE PLAINS</td>\n",
       "      <td>17</td>\n",
       "      <td>2016</td>\n",
       "      <td>Y</td>\n",
       "      <td>Y</td>\n",
       "      <td>0.647059</td>\n",
       "      <td>3</td>\n",
       "    </tr>\n",
       "    <tr>\n",
       "      <th>87414</th>\n",
       "      <td>2019</td>\n",
       "      <td>5</td>\n",
       "      <td>YISHUN</td>\n",
       "      <td>4 ROOM</td>\n",
       "      <td>10 TO 12</td>\n",
       "      <td>105.0</td>\n",
       "      <td>Model A</td>\n",
       "      <td>1988</td>\n",
       "      <td>368000.0</td>\n",
       "      <td>11</td>\n",
       "      <td>1130.2095</td>\n",
       "      <td>35</td>\n",
       "      <td>304, YISHUN CTRL</td>\n",
       "      <td>12</td>\n",
       "      <td>1986</td>\n",
       "      <td>Y</td>\n",
       "      <td>Y</td>\n",
       "      <td>0.916667</td>\n",
       "      <td>4</td>\n",
       "    </tr>\n",
       "    <tr>\n",
       "      <th>108929</th>\n",
       "      <td>2020</td>\n",
       "      <td>6</td>\n",
       "      <td>SEMBAWANG</td>\n",
       "      <td>5 ROOM</td>\n",
       "      <td>13 TO 15</td>\n",
       "      <td>110.0</td>\n",
       "      <td>Premium Apartment</td>\n",
       "      <td>2001</td>\n",
       "      <td>443000.0</td>\n",
       "      <td>14</td>\n",
       "      <td>1184.0290</td>\n",
       "      <td>22</td>\n",
       "      <td>357B, ADMIRALTY DR</td>\n",
       "      <td>16</td>\n",
       "      <td>1999</td>\n",
       "      <td>Y</td>\n",
       "      <td>N</td>\n",
       "      <td>0.875000</td>\n",
       "      <td>5</td>\n",
       "    </tr>\n",
       "    <tr>\n",
       "      <th>82164</th>\n",
       "      <td>2019</td>\n",
       "      <td>3</td>\n",
       "      <td>BUKIT MERAH</td>\n",
       "      <td>3 ROOM</td>\n",
       "      <td>01 TO 03</td>\n",
       "      <td>88.0</td>\n",
       "      <td>Standard</td>\n",
       "      <td>1973</td>\n",
       "      <td>580000.0</td>\n",
       "      <td>2</td>\n",
       "      <td>947.2232</td>\n",
       "      <td>72</td>\n",
       "      <td>33, LIM LIAK ST</td>\n",
       "      <td>4</td>\n",
       "      <td>1949</td>\n",
       "      <td>Y</td>\n",
       "      <td>N</td>\n",
       "      <td>0.500000</td>\n",
       "      <td>3</td>\n",
       "    </tr>\n",
       "    <tr>\n",
       "      <th>37847</th>\n",
       "      <td>2017</td>\n",
       "      <td>1</td>\n",
       "      <td>QUEENSTOWN</td>\n",
       "      <td>5 ROOM</td>\n",
       "      <td>19 TO 21</td>\n",
       "      <td>111.0</td>\n",
       "      <td>Improved</td>\n",
       "      <td>2003</td>\n",
       "      <td>800000.0</td>\n",
       "      <td>20</td>\n",
       "      <td>1194.7929</td>\n",
       "      <td>19</td>\n",
       "      <td>18, DOVER CRES</td>\n",
       "      <td>30</td>\n",
       "      <td>2002</td>\n",
       "      <td>Y</td>\n",
       "      <td>N</td>\n",
       "      <td>0.666667</td>\n",
       "      <td>5</td>\n",
       "    </tr>\n",
       "    <tr>\n",
       "      <th>62331</th>\n",
       "      <td>2018</td>\n",
       "      <td>4</td>\n",
       "      <td>HOUGANG</td>\n",
       "      <td>3 ROOM</td>\n",
       "      <td>04 TO 06</td>\n",
       "      <td>67.0</td>\n",
       "      <td>New Generation</td>\n",
       "      <td>1983</td>\n",
       "      <td>280000.0</td>\n",
       "      <td>5</td>\n",
       "      <td>721.1813</td>\n",
       "      <td>39</td>\n",
       "      <td>327, HOUGANG AVE 5</td>\n",
       "      <td>13</td>\n",
       "      <td>1982</td>\n",
       "      <td>Y</td>\n",
       "      <td>Y</td>\n",
       "      <td>0.384615</td>\n",
       "      <td>3</td>\n",
       "    </tr>\n",
       "    <tr>\n",
       "      <th>13661</th>\n",
       "      <td>2015</td>\n",
       "      <td>10</td>\n",
       "      <td>CHOA CHU KANG</td>\n",
       "      <td>EXECUTIVE</td>\n",
       "      <td>10 TO 12</td>\n",
       "      <td>144.0</td>\n",
       "      <td>Apartment</td>\n",
       "      <td>1995</td>\n",
       "      <td>550000.0</td>\n",
       "      <td>11</td>\n",
       "      <td>1550.0016</td>\n",
       "      <td>28</td>\n",
       "      <td>530, CHOA CHU KANG ST 51</td>\n",
       "      <td>12</td>\n",
       "      <td>1993</td>\n",
       "      <td>Y</td>\n",
       "      <td>Y</td>\n",
       "      <td>0.916667</td>\n",
       "      <td>6</td>\n",
       "    </tr>\n",
       "    <tr>\n",
       "      <th>17654</th>\n",
       "      <td>2015</td>\n",
       "      <td>12</td>\n",
       "      <td>YISHUN</td>\n",
       "      <td>3 ROOM</td>\n",
       "      <td>04 TO 06</td>\n",
       "      <td>67.0</td>\n",
       "      <td>New Generation</td>\n",
       "      <td>1985</td>\n",
       "      <td>300000.0</td>\n",
       "      <td>5</td>\n",
       "      <td>721.1813</td>\n",
       "      <td>38</td>\n",
       "      <td>734, YISHUN AVE 5</td>\n",
       "      <td>12</td>\n",
       "      <td>1983</td>\n",
       "      <td>Y</td>\n",
       "      <td>Y</td>\n",
       "      <td>0.416667</td>\n",
       "      <td>3</td>\n",
       "    </tr>\n",
       "    <tr>\n",
       "      <th>67931</th>\n",
       "      <td>2018</td>\n",
       "      <td>7</td>\n",
       "      <td>CLEMENTI</td>\n",
       "      <td>4 ROOM</td>\n",
       "      <td>07 TO 09</td>\n",
       "      <td>96.0</td>\n",
       "      <td>Model A</td>\n",
       "      <td>2013</td>\n",
       "      <td>650000.0</td>\n",
       "      <td>8</td>\n",
       "      <td>1033.3344</td>\n",
       "      <td>10</td>\n",
       "      <td>417, CLEMENTI AVE 1</td>\n",
       "      <td>20</td>\n",
       "      <td>2011</td>\n",
       "      <td>Y</td>\n",
       "      <td>N</td>\n",
       "      <td>0.400000</td>\n",
       "      <td>4</td>\n",
       "    </tr>\n",
       "    <tr>\n",
       "      <th>38744</th>\n",
       "      <td>2017</td>\n",
       "      <td>2</td>\n",
       "      <td>JURONG WEST</td>\n",
       "      <td>5 ROOM</td>\n",
       "      <td>16 TO 18</td>\n",
       "      <td>110.0</td>\n",
       "      <td>Premium Apartment</td>\n",
       "      <td>2008</td>\n",
       "      <td>475000.0</td>\n",
       "      <td>17</td>\n",
       "      <td>1184.0290</td>\n",
       "      <td>20</td>\n",
       "      <td>678C, JURONG WEST ST 64</td>\n",
       "      <td>16</td>\n",
       "      <td>2001</td>\n",
       "      <td>Y</td>\n",
       "      <td>N</td>\n",
       "      <td>1.062500</td>\n",
       "      <td>5</td>\n",
       "    </tr>\n",
       "  </tbody>\n",
       "</table>\n",
       "</div>"
      ],
      "text/plain": [
       "        Tranc_Year  Tranc_Month           town  flat_type storey_range  \\\n",
       "133607        2021            4        PUNGGOL     3 ROOM     10 TO 12   \n",
       "87414         2019            5         YISHUN     4 ROOM     10 TO 12   \n",
       "108929        2020            6      SEMBAWANG     5 ROOM     13 TO 15   \n",
       "82164         2019            3    BUKIT MERAH     3 ROOM     01 TO 03   \n",
       "37847         2017            1     QUEENSTOWN     5 ROOM     19 TO 21   \n",
       "62331         2018            4        HOUGANG     3 ROOM     04 TO 06   \n",
       "13661         2015           10  CHOA CHU KANG  EXECUTIVE     10 TO 12   \n",
       "17654         2015           12         YISHUN     3 ROOM     04 TO 06   \n",
       "67931         2018            7       CLEMENTI     4 ROOM     07 TO 09   \n",
       "38744         2017            2    JURONG WEST     5 ROOM     16 TO 18   \n",
       "\n",
       "        floor_area_sqm         flat_model  lease_commence_date  resale_price  \\\n",
       "133607            68.0            Model A                 2017      360000.0   \n",
       "87414            105.0            Model A                 1988      368000.0   \n",
       "108929           110.0  Premium Apartment                 2001      443000.0   \n",
       "82164             88.0           Standard                 1973      580000.0   \n",
       "37847            111.0           Improved                 2003      800000.0   \n",
       "62331             67.0     New Generation                 1983      280000.0   \n",
       "13661            144.0          Apartment                 1995      550000.0   \n",
       "17654             67.0     New Generation                 1985      300000.0   \n",
       "67931             96.0            Model A                 2013      650000.0   \n",
       "38744            110.0  Premium Apartment                 2008      475000.0   \n",
       "\n",
       "        storey_range_midpoint  floor_area_sqft  age_approx  \\\n",
       "133607                     11         731.9452           5   \n",
       "87414                      11        1130.2095          35   \n",
       "108929                     14        1184.0290          22   \n",
       "82164                       2         947.2232          72   \n",
       "37847                      20        1194.7929          19   \n",
       "62331                       5         721.1813          39   \n",
       "13661                      11        1550.0016          28   \n",
       "17654                       5         721.1813          38   \n",
       "67931                       8        1033.3344          10   \n",
       "38744                      17        1184.0290          20   \n",
       "\n",
       "                         address  max_floor_lvl  year_completed residential  \\\n",
       "133607     122A, EDGEDALE PLAINS             17            2016           Y   \n",
       "87414           304, YISHUN CTRL             12            1986           Y   \n",
       "108929        357B, ADMIRALTY DR             16            1999           Y   \n",
       "82164            33, LIM LIAK ST              4            1949           Y   \n",
       "37847             18, DOVER CRES             30            2002           Y   \n",
       "62331         327, HOUGANG AVE 5             13            1982           Y   \n",
       "13661   530, CHOA CHU KANG ST 51             12            1993           Y   \n",
       "17654          734, YISHUN AVE 5             12            1983           Y   \n",
       "67931        417, CLEMENTI AVE 1             20            2011           Y   \n",
       "38744    678C, JURONG WEST ST 64             16            2001           Y   \n",
       "\n",
       "       commercial  storey_relative  flat_type_numerized  \n",
       "133607          Y         0.647059                    3  \n",
       "87414           Y         0.916667                    4  \n",
       "108929          N         0.875000                    5  \n",
       "82164           N         0.500000                    3  \n",
       "37847           N         0.666667                    5  \n",
       "62331           Y         0.384615                    3  \n",
       "13661           Y         0.916667                    6  \n",
       "17654           Y         0.416667                    3  \n",
       "67931           N         0.400000                    4  \n",
       "38744           N         1.062500                    5  "
      ]
     },
     "execution_count": 5,
     "metadata": {},
     "output_type": "execute_result"
    }
   ],
   "source": [
    "# Display 10 random rows\n",
    "df.sample(10)"
   ]
  },
  {
   "cell_type": "markdown",
   "metadata": {},
   "source": [
    "## 1.2 Loading \"Facilities_Distance\" data"
   ]
  },
  {
   "cell_type": "markdown",
   "metadata": {},
   "source": [
    "\n",
    "> Read the csv file **hdb_facilities_distance.csv** into a variable **df_facility**"
   ]
  },
  {
   "cell_type": "code",
   "execution_count": 6,
   "metadata": {},
   "outputs": [],
   "source": [
    "df_facility = pd.read_csv(\"../00_raw_data/hdb_facilities_distance.csv\")"
   ]
  },
  {
   "cell_type": "code",
   "execution_count": 7,
   "metadata": {},
   "outputs": [
    {
     "name": "stdout",
     "output_type": "stream",
     "text": [
      "<class 'pandas.core.frame.DataFrame'>\n",
      "RangeIndex: 9175 entries, 0 to 9174\n",
      "Data columns (total 15 columns):\n",
      " #   Column                   Non-Null Count  Dtype  \n",
      "---  ------                   --------------  -----  \n",
      " 0   address                  9175 non-null   object \n",
      " 1   mall_nearest_distance    9030 non-null   float64\n",
      " 2   mall_within_500m         3592 non-null   float64\n",
      " 3   mall_within_1km          7483 non-null   float64\n",
      " 4   mall_within_2km          8947 non-null   float64\n",
      " 5   hawker_nearest_distance  9175 non-null   float64\n",
      " 6   hawker_within_500m       2996 non-null   float64\n",
      " 7   hawker_within_1km        5353 non-null   float64\n",
      " 8   hawker_within_2km        7418 non-null   float64\n",
      " 9   hawker_food_stalls       9165 non-null   float64\n",
      " 10  hawker_market_stalls     9165 non-null   float64\n",
      " 11  mrt_nearest_distance     9175 non-null   float64\n",
      " 12  mrt_within_500m          2883 non-null   float64\n",
      " 13  mrt_within_1km           7046 non-null   float64\n",
      " 14  mrt_within_2km           9077 non-null   float64\n",
      "dtypes: float64(14), object(1)\n",
      "memory usage: 1.1+ MB\n"
     ]
    }
   ],
   "source": [
    "df_facility.info()"
   ]
  },
  {
   "cell_type": "code",
   "execution_count": 8,
   "metadata": {},
   "outputs": [
    {
     "data": {
      "text/html": [
       "<div>\n",
       "<style scoped>\n",
       "    .dataframe tbody tr th:only-of-type {\n",
       "        vertical-align: middle;\n",
       "    }\n",
       "\n",
       "    .dataframe tbody tr th {\n",
       "        vertical-align: top;\n",
       "    }\n",
       "\n",
       "    .dataframe thead th {\n",
       "        text-align: right;\n",
       "    }\n",
       "</style>\n",
       "<table border=\"1\" class=\"dataframe\">\n",
       "  <thead>\n",
       "    <tr style=\"text-align: right;\">\n",
       "      <th></th>\n",
       "      <th>address</th>\n",
       "      <th>mall_nearest_distance</th>\n",
       "      <th>mall_within_500m</th>\n",
       "      <th>mall_within_1km</th>\n",
       "      <th>mall_within_2km</th>\n",
       "      <th>hawker_nearest_distance</th>\n",
       "      <th>hawker_within_500m</th>\n",
       "      <th>hawker_within_1km</th>\n",
       "      <th>hawker_within_2km</th>\n",
       "      <th>hawker_food_stalls</th>\n",
       "      <th>hawker_market_stalls</th>\n",
       "      <th>mrt_nearest_distance</th>\n",
       "      <th>mrt_within_500m</th>\n",
       "      <th>mrt_within_1km</th>\n",
       "      <th>mrt_within_2km</th>\n",
       "    </tr>\n",
       "  </thead>\n",
       "  <tbody>\n",
       "    <tr>\n",
       "      <th>4943</th>\n",
       "      <td>425, CANBERRA RD</td>\n",
       "      <td>685.844240</td>\n",
       "      <td>NaN</td>\n",
       "      <td>1.0</td>\n",
       "      <td>2.0</td>\n",
       "      <td>2544.273498</td>\n",
       "      <td>NaN</td>\n",
       "      <td>NaN</td>\n",
       "      <td>NaN</td>\n",
       "      <td>43.0</td>\n",
       "      <td>0.0</td>\n",
       "      <td>608.478966</td>\n",
       "      <td>NaN</td>\n",
       "      <td>1.0</td>\n",
       "      <td>1.0</td>\n",
       "    </tr>\n",
       "    <tr>\n",
       "      <th>5990</th>\n",
       "      <td>514, JURONG WEST ST 52</td>\n",
       "      <td>879.322878</td>\n",
       "      <td>NaN</td>\n",
       "      <td>1.0</td>\n",
       "      <td>3.0</td>\n",
       "      <td>378.727265</td>\n",
       "      <td>1.0</td>\n",
       "      <td>2.0</td>\n",
       "      <td>5.0</td>\n",
       "      <td>60.0</td>\n",
       "      <td>130.0</td>\n",
       "      <td>294.763036</td>\n",
       "      <td>1.0</td>\n",
       "      <td>1.0</td>\n",
       "      <td>3.0</td>\n",
       "    </tr>\n",
       "    <tr>\n",
       "      <th>5372</th>\n",
       "      <td>459, YISHUN AVE 11</td>\n",
       "      <td>659.147675</td>\n",
       "      <td>NaN</td>\n",
       "      <td>1.0</td>\n",
       "      <td>3.0</td>\n",
       "      <td>453.766976</td>\n",
       "      <td>1.0</td>\n",
       "      <td>1.0</td>\n",
       "      <td>1.0</td>\n",
       "      <td>45.0</td>\n",
       "      <td>0.0</td>\n",
       "      <td>1539.963468</td>\n",
       "      <td>NaN</td>\n",
       "      <td>NaN</td>\n",
       "      <td>2.0</td>\n",
       "    </tr>\n",
       "    <tr>\n",
       "      <th>2679</th>\n",
       "      <td>245, KIM KEAT LINK</td>\n",
       "      <td>1067.654611</td>\n",
       "      <td>NaN</td>\n",
       "      <td>NaN</td>\n",
       "      <td>6.0</td>\n",
       "      <td>468.547502</td>\n",
       "      <td>1.0</td>\n",
       "      <td>5.0</td>\n",
       "      <td>11.0</td>\n",
       "      <td>61.0</td>\n",
       "      <td>59.0</td>\n",
       "      <td>1027.800202</td>\n",
       "      <td>NaN</td>\n",
       "      <td>NaN</td>\n",
       "      <td>7.0</td>\n",
       "    </tr>\n",
       "    <tr>\n",
       "      <th>985</th>\n",
       "      <td>137, POTONG PASIR AVE 3</td>\n",
       "      <td>376.047072</td>\n",
       "      <td>1.0</td>\n",
       "      <td>1.0</td>\n",
       "      <td>2.0</td>\n",
       "      <td>990.105618</td>\n",
       "      <td>NaN</td>\n",
       "      <td>1.0</td>\n",
       "      <td>9.0</td>\n",
       "      <td>61.0</td>\n",
       "      <td>59.0</td>\n",
       "      <td>450.251744</td>\n",
       "      <td>1.0</td>\n",
       "      <td>2.0</td>\n",
       "      <td>8.0</td>\n",
       "    </tr>\n",
       "    <tr>\n",
       "      <th>8244</th>\n",
       "      <td>780C, WOODLANDS CRES</td>\n",
       "      <td>521.756560</td>\n",
       "      <td>NaN</td>\n",
       "      <td>1.0</td>\n",
       "      <td>3.0</td>\n",
       "      <td>996.630443</td>\n",
       "      <td>NaN</td>\n",
       "      <td>1.0</td>\n",
       "      <td>1.0</td>\n",
       "      <td>43.0</td>\n",
       "      <td>0.0</td>\n",
       "      <td>943.619592</td>\n",
       "      <td>NaN</td>\n",
       "      <td>1.0</td>\n",
       "      <td>2.0</td>\n",
       "    </tr>\n",
       "    <tr>\n",
       "      <th>4760</th>\n",
       "      <td>413, PASIR RIS DR 6</td>\n",
       "      <td>641.571912</td>\n",
       "      <td>NaN</td>\n",
       "      <td>2.0</td>\n",
       "      <td>4.0</td>\n",
       "      <td>466.289774</td>\n",
       "      <td>1.0</td>\n",
       "      <td>1.0</td>\n",
       "      <td>1.0</td>\n",
       "      <td>42.0</td>\n",
       "      <td>0.0</td>\n",
       "      <td>693.586785</td>\n",
       "      <td>NaN</td>\n",
       "      <td>1.0</td>\n",
       "      <td>2.0</td>\n",
       "    </tr>\n",
       "    <tr>\n",
       "      <th>2336</th>\n",
       "      <td>223, BISHAN ST 23</td>\n",
       "      <td>914.599528</td>\n",
       "      <td>NaN</td>\n",
       "      <td>1.0</td>\n",
       "      <td>3.0</td>\n",
       "      <td>633.393418</td>\n",
       "      <td>NaN</td>\n",
       "      <td>2.0</td>\n",
       "      <td>8.0</td>\n",
       "      <td>32.0</td>\n",
       "      <td>86.0</td>\n",
       "      <td>840.814121</td>\n",
       "      <td>NaN</td>\n",
       "      <td>2.0</td>\n",
       "      <td>6.0</td>\n",
       "    </tr>\n",
       "    <tr>\n",
       "      <th>8504</th>\n",
       "      <td>82A, LOR 4 TOA PAYOH</td>\n",
       "      <td>468.349045</td>\n",
       "      <td>1.0</td>\n",
       "      <td>1.0</td>\n",
       "      <td>6.0</td>\n",
       "      <td>291.335264</td>\n",
       "      <td>3.0</td>\n",
       "      <td>6.0</td>\n",
       "      <td>8.0</td>\n",
       "      <td>28.0</td>\n",
       "      <td>32.0</td>\n",
       "      <td>404.196921</td>\n",
       "      <td>1.0</td>\n",
       "      <td>2.0</td>\n",
       "      <td>7.0</td>\n",
       "    </tr>\n",
       "    <tr>\n",
       "      <th>870</th>\n",
       "      <td>130, RIVERVALE ST</td>\n",
       "      <td>367.408497</td>\n",
       "      <td>2.0</td>\n",
       "      <td>3.0</td>\n",
       "      <td>7.0</td>\n",
       "      <td>2717.105383</td>\n",
       "      <td>NaN</td>\n",
       "      <td>NaN</td>\n",
       "      <td>NaN</td>\n",
       "      <td>40.0</td>\n",
       "      <td>0.0</td>\n",
       "      <td>835.641715</td>\n",
       "      <td>NaN</td>\n",
       "      <td>1.0</td>\n",
       "      <td>3.0</td>\n",
       "    </tr>\n",
       "  </tbody>\n",
       "</table>\n",
       "</div>"
      ],
      "text/plain": [
       "                      address  mall_nearest_distance  mall_within_500m  \\\n",
       "4943         425, CANBERRA RD             685.844240               NaN   \n",
       "5990   514, JURONG WEST ST 52             879.322878               NaN   \n",
       "5372       459, YISHUN AVE 11             659.147675               NaN   \n",
       "2679       245, KIM KEAT LINK            1067.654611               NaN   \n",
       "985   137, POTONG PASIR AVE 3             376.047072               1.0   \n",
       "8244     780C, WOODLANDS CRES             521.756560               NaN   \n",
       "4760      413, PASIR RIS DR 6             641.571912               NaN   \n",
       "2336        223, BISHAN ST 23             914.599528               NaN   \n",
       "8504     82A, LOR 4 TOA PAYOH             468.349045               1.0   \n",
       "870         130, RIVERVALE ST             367.408497               2.0   \n",
       "\n",
       "      mall_within_1km  mall_within_2km  hawker_nearest_distance  \\\n",
       "4943              1.0              2.0              2544.273498   \n",
       "5990              1.0              3.0               378.727265   \n",
       "5372              1.0              3.0               453.766976   \n",
       "2679              NaN              6.0               468.547502   \n",
       "985               1.0              2.0               990.105618   \n",
       "8244              1.0              3.0               996.630443   \n",
       "4760              2.0              4.0               466.289774   \n",
       "2336              1.0              3.0               633.393418   \n",
       "8504              1.0              6.0               291.335264   \n",
       "870               3.0              7.0              2717.105383   \n",
       "\n",
       "      hawker_within_500m  hawker_within_1km  hawker_within_2km  \\\n",
       "4943                 NaN                NaN                NaN   \n",
       "5990                 1.0                2.0                5.0   \n",
       "5372                 1.0                1.0                1.0   \n",
       "2679                 1.0                5.0               11.0   \n",
       "985                  NaN                1.0                9.0   \n",
       "8244                 NaN                1.0                1.0   \n",
       "4760                 1.0                1.0                1.0   \n",
       "2336                 NaN                2.0                8.0   \n",
       "8504                 3.0                6.0                8.0   \n",
       "870                  NaN                NaN                NaN   \n",
       "\n",
       "      hawker_food_stalls  hawker_market_stalls  mrt_nearest_distance  \\\n",
       "4943                43.0                   0.0            608.478966   \n",
       "5990                60.0                 130.0            294.763036   \n",
       "5372                45.0                   0.0           1539.963468   \n",
       "2679                61.0                  59.0           1027.800202   \n",
       "985                 61.0                  59.0            450.251744   \n",
       "8244                43.0                   0.0            943.619592   \n",
       "4760                42.0                   0.0            693.586785   \n",
       "2336                32.0                  86.0            840.814121   \n",
       "8504                28.0                  32.0            404.196921   \n",
       "870                 40.0                   0.0            835.641715   \n",
       "\n",
       "      mrt_within_500m  mrt_within_1km  mrt_within_2km  \n",
       "4943              NaN             1.0             1.0  \n",
       "5990              1.0             1.0             3.0  \n",
       "5372              NaN             NaN             2.0  \n",
       "2679              NaN             NaN             7.0  \n",
       "985               1.0             2.0             8.0  \n",
       "8244              NaN             1.0             2.0  \n",
       "4760              NaN             1.0             2.0  \n",
       "2336              NaN             2.0             6.0  \n",
       "8504              1.0             2.0             7.0  \n",
       "870               NaN             1.0             3.0  "
      ]
     },
     "execution_count": 8,
     "metadata": {},
     "output_type": "execute_result"
    }
   ],
   "source": [
    "df_facility.sample(10)"
   ]
  },
  {
   "cell_type": "markdown",
   "metadata": {},
   "source": [
    "## 1.3 Loading \"HDB Type Sold Count\" data"
   ]
  },
  {
   "cell_type": "markdown",
   "metadata": {},
   "source": [
    "> Read the csv file **hdb_type_sold** into a variable **df_hdb_sold**"
   ]
  },
  {
   "cell_type": "code",
   "execution_count": 9,
   "metadata": {},
   "outputs": [],
   "source": [
    "df_type_sold = pd.read_csv(\"../00_raw_data/hdb_type_sold.csv\")"
   ]
  },
  {
   "cell_type": "code",
   "execution_count": 10,
   "metadata": {},
   "outputs": [
    {
     "name": "stdout",
     "output_type": "stream",
     "text": [
      "<class 'pandas.core.frame.DataFrame'>\n",
      "RangeIndex: 9175 entries, 0 to 9174\n",
      "Data columns (total 10 columns):\n",
      " #   Column                Non-Null Count  Dtype \n",
      "---  ------                --------------  ----- \n",
      " 0   address               9175 non-null   object\n",
      " 1   total_dwelling_units  9175 non-null   int64 \n",
      " 2   1 ROOM                9175 non-null   int64 \n",
      " 3   2 ROOM                9175 non-null   int64 \n",
      " 4   3 ROOM                9175 non-null   int64 \n",
      " 5   4 ROOM                9175 non-null   int64 \n",
      " 6   5 ROOM                9175 non-null   int64 \n",
      " 7   EXECUTIVE             9175 non-null   int64 \n",
      " 8   MULTI-GENERATION      9175 non-null   int64 \n",
      " 9   STUDIO                9175 non-null   int64 \n",
      "dtypes: int64(9), object(1)\n",
      "memory usage: 716.9+ KB\n"
     ]
    }
   ],
   "source": [
    "df_type_sold.info()"
   ]
  },
  {
   "cell_type": "code",
   "execution_count": 11,
   "metadata": {},
   "outputs": [
    {
     "data": {
      "text/html": [
       "<div>\n",
       "<style scoped>\n",
       "    .dataframe tbody tr th:only-of-type {\n",
       "        vertical-align: middle;\n",
       "    }\n",
       "\n",
       "    .dataframe tbody tr th {\n",
       "        vertical-align: top;\n",
       "    }\n",
       "\n",
       "    .dataframe thead th {\n",
       "        text-align: right;\n",
       "    }\n",
       "</style>\n",
       "<table border=\"1\" class=\"dataframe\">\n",
       "  <thead>\n",
       "    <tr style=\"text-align: right;\">\n",
       "      <th></th>\n",
       "      <th>address</th>\n",
       "      <th>total_dwelling_units</th>\n",
       "      <th>1 ROOM</th>\n",
       "      <th>2 ROOM</th>\n",
       "      <th>3 ROOM</th>\n",
       "      <th>4 ROOM</th>\n",
       "      <th>5 ROOM</th>\n",
       "      <th>EXECUTIVE</th>\n",
       "      <th>MULTI-GENERATION</th>\n",
       "      <th>STUDIO</th>\n",
       "    </tr>\n",
       "  </thead>\n",
       "  <tbody>\n",
       "    <tr>\n",
       "      <th>4932</th>\n",
       "      <td>452, CHOA CHU KANG AVE 4</td>\n",
       "      <td>60</td>\n",
       "      <td>0</td>\n",
       "      <td>0</td>\n",
       "      <td>0</td>\n",
       "      <td>45</td>\n",
       "      <td>15</td>\n",
       "      <td>0</td>\n",
       "      <td>0</td>\n",
       "      <td>0</td>\n",
       "    </tr>\n",
       "    <tr>\n",
       "      <th>3410</th>\n",
       "      <td>121, SERANGOON NTH AVE 1</td>\n",
       "      <td>96</td>\n",
       "      <td>0</td>\n",
       "      <td>0</td>\n",
       "      <td>0</td>\n",
       "      <td>18</td>\n",
       "      <td>78</td>\n",
       "      <td>0</td>\n",
       "      <td>0</td>\n",
       "      <td>0</td>\n",
       "    </tr>\n",
       "    <tr>\n",
       "      <th>1324</th>\n",
       "      <td>630, SENJA RD</td>\n",
       "      <td>234</td>\n",
       "      <td>0</td>\n",
       "      <td>0</td>\n",
       "      <td>0</td>\n",
       "      <td>122</td>\n",
       "      <td>112</td>\n",
       "      <td>0</td>\n",
       "      <td>0</td>\n",
       "      <td>0</td>\n",
       "    </tr>\n",
       "    <tr>\n",
       "      <th>2053</th>\n",
       "      <td>657, JLN TENAGA</td>\n",
       "      <td>80</td>\n",
       "      <td>0</td>\n",
       "      <td>0</td>\n",
       "      <td>0</td>\n",
       "      <td>60</td>\n",
       "      <td>20</td>\n",
       "      <td>0</td>\n",
       "      <td>0</td>\n",
       "      <td>0</td>\n",
       "    </tr>\n",
       "    <tr>\n",
       "      <th>8499</th>\n",
       "      <td>316B, YISHUN AVE 9</td>\n",
       "      <td>112</td>\n",
       "      <td>0</td>\n",
       "      <td>0</td>\n",
       "      <td>56</td>\n",
       "      <td>56</td>\n",
       "      <td>0</td>\n",
       "      <td>0</td>\n",
       "      <td>0</td>\n",
       "      <td>0</td>\n",
       "    </tr>\n",
       "    <tr>\n",
       "      <th>3693</th>\n",
       "      <td>283, BT BATOK EAST AVE 3</td>\n",
       "      <td>106</td>\n",
       "      <td>0</td>\n",
       "      <td>0</td>\n",
       "      <td>85</td>\n",
       "      <td>19</td>\n",
       "      <td>2</td>\n",
       "      <td>0</td>\n",
       "      <td>0</td>\n",
       "      <td>0</td>\n",
       "    </tr>\n",
       "    <tr>\n",
       "      <th>6267</th>\n",
       "      <td>24, NEW UPP CHANGI RD</td>\n",
       "      <td>156</td>\n",
       "      <td>0</td>\n",
       "      <td>0</td>\n",
       "      <td>130</td>\n",
       "      <td>26</td>\n",
       "      <td>0</td>\n",
       "      <td>0</td>\n",
       "      <td>0</td>\n",
       "      <td>0</td>\n",
       "    </tr>\n",
       "    <tr>\n",
       "      <th>6036</th>\n",
       "      <td>354, CHOA CHU KANG CTRL</td>\n",
       "      <td>106</td>\n",
       "      <td>0</td>\n",
       "      <td>0</td>\n",
       "      <td>0</td>\n",
       "      <td>67</td>\n",
       "      <td>39</td>\n",
       "      <td>0</td>\n",
       "      <td>0</td>\n",
       "      <td>0</td>\n",
       "    </tr>\n",
       "    <tr>\n",
       "      <th>7272</th>\n",
       "      <td>98, ALJUNIED CRES</td>\n",
       "      <td>150</td>\n",
       "      <td>0</td>\n",
       "      <td>0</td>\n",
       "      <td>146</td>\n",
       "      <td>0</td>\n",
       "      <td>4</td>\n",
       "      <td>0</td>\n",
       "      <td>0</td>\n",
       "      <td>0</td>\n",
       "    </tr>\n",
       "    <tr>\n",
       "      <th>2176</th>\n",
       "      <td>533, BT PANJANG RING RD</td>\n",
       "      <td>121</td>\n",
       "      <td>0</td>\n",
       "      <td>0</td>\n",
       "      <td>0</td>\n",
       "      <td>56</td>\n",
       "      <td>65</td>\n",
       "      <td>0</td>\n",
       "      <td>0</td>\n",
       "      <td>0</td>\n",
       "    </tr>\n",
       "  </tbody>\n",
       "</table>\n",
       "</div>"
      ],
      "text/plain": [
       "                       address  total_dwelling_units  1 ROOM  2 ROOM  3 ROOM  \\\n",
       "4932  452, CHOA CHU KANG AVE 4                    60       0       0       0   \n",
       "3410  121, SERANGOON NTH AVE 1                    96       0       0       0   \n",
       "1324             630, SENJA RD                   234       0       0       0   \n",
       "2053           657, JLN TENAGA                    80       0       0       0   \n",
       "8499        316B, YISHUN AVE 9                   112       0       0      56   \n",
       "3693  283, BT BATOK EAST AVE 3                   106       0       0      85   \n",
       "6267     24, NEW UPP CHANGI RD                   156       0       0     130   \n",
       "6036   354, CHOA CHU KANG CTRL                   106       0       0       0   \n",
       "7272         98, ALJUNIED CRES                   150       0       0     146   \n",
       "2176   533, BT PANJANG RING RD                   121       0       0       0   \n",
       "\n",
       "      4 ROOM  5 ROOM  EXECUTIVE  MULTI-GENERATION  STUDIO  \n",
       "4932      45      15          0                 0       0  \n",
       "3410      18      78          0                 0       0  \n",
       "1324     122     112          0                 0       0  \n",
       "2053      60      20          0                 0       0  \n",
       "8499      56       0          0                 0       0  \n",
       "3693      19       2          0                 0       0  \n",
       "6267      26       0          0                 0       0  \n",
       "6036      67      39          0                 0       0  \n",
       "7272       0       4          0                 0       0  \n",
       "2176      56      65          0                 0       0  "
      ]
     },
     "execution_count": 11,
     "metadata": {},
     "output_type": "execute_result"
    }
   ],
   "source": [
    "df_type_sold.sample(10)"
   ]
  },
  {
   "cell_type": "markdown",
   "metadata": {
    "tags": []
   },
   "source": [
    "# 2.0 Data Processing"
   ]
  },
  {
   "cell_type": "markdown",
   "metadata": {
    "tags": []
   },
   "source": [
    "## 2.1 Calculate Percentage of the Unit's Flat Type"
   ]
  },
  {
   "cell_type": "markdown",
   "metadata": {},
   "source": [
    "> 🔷 **[ Question 2a ]** [8 marks] <br>\n",
    "> Create a new column **flat_type_percent** in **df**, to store the percentage of the unit's flat_type over the **total_dwelling_units**.\n",
    ">\n",
    "> For example: If a row's **flat_type** is *3 ROOM*, we'll use number of **3 ROOM** sold (available in  **df_type_sold**) to be divided by the **total_dwelling_units** of the block.\n",
    ">\n",
    "> The top 10 rows of your **df** should look like this at the end of this question (screenshots shows columns starting the right-most column).\n",
    "> ![](_resources/snap001.png)"
   ]
  },
  {
   "cell_type": "code",
   "execution_count": 12,
   "metadata": {},
   "outputs": [],
   "source": [
    "df = df.merge(df_type_sold, 'left', 'address')"
   ]
  },
  {
   "cell_type": "code",
   "execution_count": 13,
   "metadata": {},
   "outputs": [],
   "source": [
    "def get_type_percent(row):\n",
    "    flat_type = row['flat_type']\n",
    "    return row[flat_type] / row['total_dwelling_units']"
   ]
  },
  {
   "cell_type": "code",
   "execution_count": 14,
   "metadata": {},
   "outputs": [],
   "source": [
    "df['flat_type_percent'] = df.apply(get_type_percent, axis=1)"
   ]
  },
  {
   "cell_type": "code",
   "execution_count": 15,
   "metadata": {},
   "outputs": [
    {
     "data": {
      "text/html": [
       "<div>\n",
       "<style scoped>\n",
       "    .dataframe tbody tr th:only-of-type {\n",
       "        vertical-align: middle;\n",
       "    }\n",
       "\n",
       "    .dataframe tbody tr th {\n",
       "        vertical-align: top;\n",
       "    }\n",
       "\n",
       "    .dataframe thead th {\n",
       "        text-align: right;\n",
       "    }\n",
       "</style>\n",
       "<table border=\"1\" class=\"dataframe\">\n",
       "  <thead>\n",
       "    <tr style=\"text-align: right;\">\n",
       "      <th></th>\n",
       "      <th>Tranc_Year</th>\n",
       "      <th>Tranc_Month</th>\n",
       "      <th>town</th>\n",
       "      <th>flat_type</th>\n",
       "      <th>storey_range</th>\n",
       "      <th>floor_area_sqm</th>\n",
       "      <th>flat_model</th>\n",
       "      <th>lease_commence_date</th>\n",
       "      <th>resale_price</th>\n",
       "      <th>storey_range_midpoint</th>\n",
       "      <th>...</th>\n",
       "      <th>total_dwelling_units</th>\n",
       "      <th>1 ROOM</th>\n",
       "      <th>2 ROOM</th>\n",
       "      <th>3 ROOM</th>\n",
       "      <th>4 ROOM</th>\n",
       "      <th>5 ROOM</th>\n",
       "      <th>EXECUTIVE</th>\n",
       "      <th>MULTI-GENERATION</th>\n",
       "      <th>STUDIO</th>\n",
       "      <th>flat_type_percent</th>\n",
       "    </tr>\n",
       "  </thead>\n",
       "  <tbody>\n",
       "    <tr>\n",
       "      <th>0</th>\n",
       "      <td>2015</td>\n",
       "      <td>1</td>\n",
       "      <td>ANG MO KIO</td>\n",
       "      <td>3 ROOM</td>\n",
       "      <td>07 TO 09</td>\n",
       "      <td>60.0</td>\n",
       "      <td>Improved</td>\n",
       "      <td>1986</td>\n",
       "      <td>255000.0</td>\n",
       "      <td>8</td>\n",
       "      <td>...</td>\n",
       "      <td>198</td>\n",
       "      <td>0</td>\n",
       "      <td>57</td>\n",
       "      <td>137</td>\n",
       "      <td>1</td>\n",
       "      <td>1</td>\n",
       "      <td>0</td>\n",
       "      <td>0</td>\n",
       "      <td>0</td>\n",
       "      <td>0.691919</td>\n",
       "    </tr>\n",
       "    <tr>\n",
       "      <th>1</th>\n",
       "      <td>2015</td>\n",
       "      <td>1</td>\n",
       "      <td>ANG MO KIO</td>\n",
       "      <td>3 ROOM</td>\n",
       "      <td>01 TO 03</td>\n",
       "      <td>68.0</td>\n",
       "      <td>New Generation</td>\n",
       "      <td>1981</td>\n",
       "      <td>275000.0</td>\n",
       "      <td>2</td>\n",
       "      <td>...</td>\n",
       "      <td>191</td>\n",
       "      <td>0</td>\n",
       "      <td>0</td>\n",
       "      <td>165</td>\n",
       "      <td>21</td>\n",
       "      <td>3</td>\n",
       "      <td>2</td>\n",
       "      <td>0</td>\n",
       "      <td>0</td>\n",
       "      <td>0.863874</td>\n",
       "    </tr>\n",
       "    <tr>\n",
       "      <th>2</th>\n",
       "      <td>2015</td>\n",
       "      <td>1</td>\n",
       "      <td>ANG MO KIO</td>\n",
       "      <td>3 ROOM</td>\n",
       "      <td>01 TO 03</td>\n",
       "      <td>69.0</td>\n",
       "      <td>New Generation</td>\n",
       "      <td>1980</td>\n",
       "      <td>285000.0</td>\n",
       "      <td>2</td>\n",
       "      <td>...</td>\n",
       "      <td>84</td>\n",
       "      <td>0</td>\n",
       "      <td>0</td>\n",
       "      <td>84</td>\n",
       "      <td>0</td>\n",
       "      <td>0</td>\n",
       "      <td>0</td>\n",
       "      <td>0</td>\n",
       "      <td>0</td>\n",
       "      <td>1.000000</td>\n",
       "    </tr>\n",
       "    <tr>\n",
       "      <th>3</th>\n",
       "      <td>2015</td>\n",
       "      <td>1</td>\n",
       "      <td>ANG MO KIO</td>\n",
       "      <td>3 ROOM</td>\n",
       "      <td>01 TO 03</td>\n",
       "      <td>68.0</td>\n",
       "      <td>New Generation</td>\n",
       "      <td>1979</td>\n",
       "      <td>290000.0</td>\n",
       "      <td>2</td>\n",
       "      <td>...</td>\n",
       "      <td>23</td>\n",
       "      <td>0</td>\n",
       "      <td>0</td>\n",
       "      <td>23</td>\n",
       "      <td>0</td>\n",
       "      <td>0</td>\n",
       "      <td>0</td>\n",
       "      <td>0</td>\n",
       "      <td>0</td>\n",
       "      <td>1.000000</td>\n",
       "    </tr>\n",
       "    <tr>\n",
       "      <th>4</th>\n",
       "      <td>2015</td>\n",
       "      <td>1</td>\n",
       "      <td>ANG MO KIO</td>\n",
       "      <td>3 ROOM</td>\n",
       "      <td>07 TO 09</td>\n",
       "      <td>68.0</td>\n",
       "      <td>New Generation</td>\n",
       "      <td>1980</td>\n",
       "      <td>290000.0</td>\n",
       "      <td>8</td>\n",
       "      <td>...</td>\n",
       "      <td>187</td>\n",
       "      <td>0</td>\n",
       "      <td>0</td>\n",
       "      <td>158</td>\n",
       "      <td>24</td>\n",
       "      <td>2</td>\n",
       "      <td>3</td>\n",
       "      <td>0</td>\n",
       "      <td>0</td>\n",
       "      <td>0.844920</td>\n",
       "    </tr>\n",
       "    <tr>\n",
       "      <th>5</th>\n",
       "      <td>2015</td>\n",
       "      <td>1</td>\n",
       "      <td>ANG MO KIO</td>\n",
       "      <td>3 ROOM</td>\n",
       "      <td>07 TO 09</td>\n",
       "      <td>67.0</td>\n",
       "      <td>New Generation</td>\n",
       "      <td>1980</td>\n",
       "      <td>290000.0</td>\n",
       "      <td>8</td>\n",
       "      <td>...</td>\n",
       "      <td>140</td>\n",
       "      <td>0</td>\n",
       "      <td>0</td>\n",
       "      <td>116</td>\n",
       "      <td>20</td>\n",
       "      <td>1</td>\n",
       "      <td>3</td>\n",
       "      <td>0</td>\n",
       "      <td>0</td>\n",
       "      <td>0.828571</td>\n",
       "    </tr>\n",
       "    <tr>\n",
       "      <th>6</th>\n",
       "      <td>2015</td>\n",
       "      <td>1</td>\n",
       "      <td>ANG MO KIO</td>\n",
       "      <td>3 ROOM</td>\n",
       "      <td>01 TO 03</td>\n",
       "      <td>68.0</td>\n",
       "      <td>New Generation</td>\n",
       "      <td>1980</td>\n",
       "      <td>290000.0</td>\n",
       "      <td>2</td>\n",
       "      <td>...</td>\n",
       "      <td>28</td>\n",
       "      <td>0</td>\n",
       "      <td>0</td>\n",
       "      <td>28</td>\n",
       "      <td>0</td>\n",
       "      <td>0</td>\n",
       "      <td>0</td>\n",
       "      <td>0</td>\n",
       "      <td>0</td>\n",
       "      <td>1.000000</td>\n",
       "    </tr>\n",
       "    <tr>\n",
       "      <th>7</th>\n",
       "      <td>2015</td>\n",
       "      <td>1</td>\n",
       "      <td>ANG MO KIO</td>\n",
       "      <td>3 ROOM</td>\n",
       "      <td>01 TO 03</td>\n",
       "      <td>68.0</td>\n",
       "      <td>New Generation</td>\n",
       "      <td>1981</td>\n",
       "      <td>293000.0</td>\n",
       "      <td>2</td>\n",
       "      <td>...</td>\n",
       "      <td>179</td>\n",
       "      <td>0</td>\n",
       "      <td>0</td>\n",
       "      <td>158</td>\n",
       "      <td>20</td>\n",
       "      <td>0</td>\n",
       "      <td>1</td>\n",
       "      <td>0</td>\n",
       "      <td>0</td>\n",
       "      <td>0.882682</td>\n",
       "    </tr>\n",
       "    <tr>\n",
       "      <th>8</th>\n",
       "      <td>2015</td>\n",
       "      <td>1</td>\n",
       "      <td>ANG MO KIO</td>\n",
       "      <td>3 ROOM</td>\n",
       "      <td>01 TO 03</td>\n",
       "      <td>67.0</td>\n",
       "      <td>New Generation</td>\n",
       "      <td>1978</td>\n",
       "      <td>300000.0</td>\n",
       "      <td>2</td>\n",
       "      <td>...</td>\n",
       "      <td>154</td>\n",
       "      <td>0</td>\n",
       "      <td>0</td>\n",
       "      <td>121</td>\n",
       "      <td>33</td>\n",
       "      <td>0</td>\n",
       "      <td>0</td>\n",
       "      <td>0</td>\n",
       "      <td>0</td>\n",
       "      <td>0.785714</td>\n",
       "    </tr>\n",
       "    <tr>\n",
       "      <th>9</th>\n",
       "      <td>2015</td>\n",
       "      <td>1</td>\n",
       "      <td>ANG MO KIO</td>\n",
       "      <td>3 ROOM</td>\n",
       "      <td>13 TO 15</td>\n",
       "      <td>68.0</td>\n",
       "      <td>New Generation</td>\n",
       "      <td>1985</td>\n",
       "      <td>307500.0</td>\n",
       "      <td>14</td>\n",
       "      <td>...</td>\n",
       "      <td>214</td>\n",
       "      <td>0</td>\n",
       "      <td>0</td>\n",
       "      <td>187</td>\n",
       "      <td>24</td>\n",
       "      <td>1</td>\n",
       "      <td>1</td>\n",
       "      <td>0</td>\n",
       "      <td>0</td>\n",
       "      <td>0.873832</td>\n",
       "    </tr>\n",
       "  </tbody>\n",
       "</table>\n",
       "<p>10 rows × 29 columns</p>\n",
       "</div>"
      ],
      "text/plain": [
       "   Tranc_Year  Tranc_Month        town flat_type storey_range  floor_area_sqm  \\\n",
       "0        2015            1  ANG MO KIO    3 ROOM     07 TO 09            60.0   \n",
       "1        2015            1  ANG MO KIO    3 ROOM     01 TO 03            68.0   \n",
       "2        2015            1  ANG MO KIO    3 ROOM     01 TO 03            69.0   \n",
       "3        2015            1  ANG MO KIO    3 ROOM     01 TO 03            68.0   \n",
       "4        2015            1  ANG MO KIO    3 ROOM     07 TO 09            68.0   \n",
       "5        2015            1  ANG MO KIO    3 ROOM     07 TO 09            67.0   \n",
       "6        2015            1  ANG MO KIO    3 ROOM     01 TO 03            68.0   \n",
       "7        2015            1  ANG MO KIO    3 ROOM     01 TO 03            68.0   \n",
       "8        2015            1  ANG MO KIO    3 ROOM     01 TO 03            67.0   \n",
       "9        2015            1  ANG MO KIO    3 ROOM     13 TO 15            68.0   \n",
       "\n",
       "       flat_model  lease_commence_date  resale_price  storey_range_midpoint  \\\n",
       "0        Improved                 1986      255000.0                      8   \n",
       "1  New Generation                 1981      275000.0                      2   \n",
       "2  New Generation                 1980      285000.0                      2   \n",
       "3  New Generation                 1979      290000.0                      2   \n",
       "4  New Generation                 1980      290000.0                      8   \n",
       "5  New Generation                 1980      290000.0                      8   \n",
       "6  New Generation                 1980      290000.0                      2   \n",
       "7  New Generation                 1981      293000.0                      2   \n",
       "8  New Generation                 1978      300000.0                      2   \n",
       "9  New Generation                 1985      307500.0                     14   \n",
       "\n",
       "   ...  total_dwelling_units  1 ROOM 2 ROOM  3 ROOM  4 ROOM 5 ROOM EXECUTIVE  \\\n",
       "0  ...                   198       0     57     137       1      1         0   \n",
       "1  ...                   191       0      0     165      21      3         2   \n",
       "2  ...                    84       0      0      84       0      0         0   \n",
       "3  ...                    23       0      0      23       0      0         0   \n",
       "4  ...                   187       0      0     158      24      2         3   \n",
       "5  ...                   140       0      0     116      20      1         3   \n",
       "6  ...                    28       0      0      28       0      0         0   \n",
       "7  ...                   179       0      0     158      20      0         1   \n",
       "8  ...                   154       0      0     121      33      0         0   \n",
       "9  ...                   214       0      0     187      24      1         1   \n",
       "\n",
       "   MULTI-GENERATION  STUDIO  flat_type_percent  \n",
       "0                 0       0           0.691919  \n",
       "1                 0       0           0.863874  \n",
       "2                 0       0           1.000000  \n",
       "3                 0       0           1.000000  \n",
       "4                 0       0           0.844920  \n",
       "5                 0       0           0.828571  \n",
       "6                 0       0           1.000000  \n",
       "7                 0       0           0.882682  \n",
       "8                 0       0           0.785714  \n",
       "9                 0       0           0.873832  \n",
       "\n",
       "[10 rows x 29 columns]"
      ]
     },
     "execution_count": 15,
     "metadata": {},
     "output_type": "execute_result"
    }
   ],
   "source": [
    "df.head(10)"
   ]
  },
  {
   "cell_type": "markdown",
   "metadata": {},
   "source": [
    "> 🔷 **[ Question 2b ]** [2 marks] <br>\n",
    "> Remove the columns below from the dataframe **df**. The column names have been stored in **cols_to_remove** for you.\n",
    ">\n",
    "> The **df** used in the rest of notebook should not contain these columns."
   ]
  },
  {
   "cell_type": "code",
   "execution_count": 16,
   "metadata": {
    "tags": []
   },
   "outputs": [],
   "source": [
    "cols_to_remove = [\n",
    " '1 ROOM',\n",
    " '2 ROOM',\n",
    " '3 ROOM',\n",
    " '4 ROOM',\n",
    " '5 ROOM',\n",
    " 'EXECUTIVE',\n",
    " 'MULTI-GENERATION',\n",
    " 'STUDIO'\n",
    "]\n"
   ]
  },
  {
   "cell_type": "code",
   "execution_count": 17,
   "metadata": {},
   "outputs": [],
   "source": [
    "df = df.drop(cols_to_remove, axis=1)"
   ]
  },
  {
   "cell_type": "markdown",
   "metadata": {
    "tags": []
   },
   "source": [
    "## 2.2 Comparing Floor Size to Average of the same Flat Type and Flat Model"
   ]
  },
  {
   "cell_type": "markdown",
   "metadata": {},
   "source": [
    "> 🔷 **[ Question 2c ]** [8 marks] <br>\n",
    "> Create a new column **diff_from_avg_sqft** in df, to store the difference between the each unit's **floor_size_sqft** and the average floor size of the same **flat_type**, **flat_model** in the dataset **df**.\n",
    ">\n",
    "> At the end of the question, your **df** should look like this:\n",
    "> ![](_resources/snap002.png)"
   ]
  },
  {
   "cell_type": "code",
   "execution_count": 18,
   "metadata": {},
   "outputs": [],
   "source": [
    "df_grouped = df.groupby(['flat_type', 'flat_model']).floor_area_sqft.mean().reset_index()"
   ]
  },
  {
   "cell_type": "code",
   "execution_count": 19,
   "metadata": {},
   "outputs": [],
   "source": [
    "df_grouped.columns = ['flat_type', 'flat_model', 'avg_sqft']"
   ]
  },
  {
   "cell_type": "code",
   "execution_count": null,
   "metadata": {},
   "outputs": [],
   "source": [
    "len(df) length before "
   ]
  },
  {
   "cell_type": "code",
   "execution_count": 20,
   "metadata": {},
   "outputs": [],
   "source": [
    "df = df.merge(df_grouped, 'left', ['flat_type', 'flat_model'])\n"
   ]
  },
  {
   "cell_type": "code",
   "execution_count": null,
   "metadata": {},
   "outputs": [],
   "source": [
    "len(df) length after  "
   ]
  },
  {
   "cell_type": "code",
   "execution_count": 21,
   "metadata": {},
   "outputs": [],
   "source": [
    "df['diff_from_avg_sqft'] = df['floor_area_sqft'] - df['avg_sqft']"
   ]
  },
  {
   "cell_type": "markdown",
   "metadata": {
    "tags": []
   },
   "source": [
    "## 2.2 Process and Merge \"Facilities_Distance\" data"
   ]
  },
  {
   "cell_type": "markdown",
   "metadata": {},
   "source": [
    "> 🔷 **[ Question 2d ]** [2 marks] <br>\n",
    "> **df_facility** contains missing values when there is no mall/hawker/mrt within the specified distance (e.g. mall_within_1km).\n",
    ">\n",
    "> Fill all these missing values with 0."
   ]
  },
  {
   "cell_type": "code",
   "execution_count": 22,
   "metadata": {},
   "outputs": [],
   "source": [
    "df_facility = df_facility.fillna(0)"
   ]
  },
  {
   "cell_type": "markdown",
   "metadata": {},
   "source": [
    "> 🔷 **[ Question 2e ]** [2 marks] <br>\n",
    "> Merge all the columns in **df_facility** into **df**, so that for each record in **df**, it will have the respective information from **df_facility**."
   ]
  },
  {
   "cell_type": "code",
   "execution_count": 23,
   "metadata": {},
   "outputs": [],
   "source": [
    "df = df.merge(df_facility, 'left', 'address')"
   ]
  },
  {
   "cell_type": "code",
   "execution_count": 26,
   "metadata": {},
   "outputs": [],
   "source": [
    "df.to_csv(\"../01_processed_data/df_q3_start.csv\", index=False)"
   ]
  },
  {
   "cell_type": "markdown",
   "metadata": {},
   "source": [
    "# 3 Feature Engineering"
   ]
  },
  {
   "cell_type": "markdown",
   "metadata": {},
   "source": [
    "⚠️ If you are unable to complete previous questions, read **df_q3_start.csv** from folder **\"01_processed_data\"** into the variable df before continue."
   ]
  },
  {
   "cell_type": "code",
   "execution_count": 27,
   "metadata": {},
   "outputs": [],
   "source": [
    "#optional: Load in data processed up to this point\n",
    "df = pd.read_csv(\"../01_processed_data/df_q3_start.csv\")"
   ]
  },
  {
   "cell_type": "markdown",
   "metadata": {
    "tags": []
   },
   "source": [
    "## 3.1 Creating Dummy Variables"
   ]
  },
  {
   "cell_type": "markdown",
   "metadata": {},
   "source": [
    "> 🔷 **[ Question 3 ]** [5 marks] <br>\n",
    "> Create dummy variables for **town** and **flat_model**. <br>\n",
    "> Create a new dataframe **df_dataset** that combines all the columns in **df** with these dummy variables."
   ]
  },
  {
   "cell_type": "markdown",
   "metadata": {},
   "source": [
    "> If you're unable to complete previous questions, read **df_q3_start** from folder \"01_processed_data\" into the variable **df** before continue."
   ]
  },
  {
   "cell_type": "code",
   "execution_count": 28,
   "metadata": {},
   "outputs": [],
   "source": [
    "features_category = ['town', 'flat_model']"
   ]
  },
  {
   "cell_type": "code",
   "execution_count": 29,
   "metadata": {},
   "outputs": [],
   "source": [
    "df_dummies = pd.get_dummies(df[features_category], drop_first=True)"
   ]
  },
  {
   "cell_type": "code",
   "execution_count": 30,
   "metadata": {},
   "outputs": [],
   "source": [
    "df_dataset = pd.concat([df, df_dummies], axis=1, sort=False)"
   ]
  },
  {
   "cell_type": "markdown",
   "metadata": {
    "tags": []
   },
   "source": [
    "# 4.0 Modeling"
   ]
  },
  {
   "cell_type": "markdown",
   "metadata": {},
   "source": [
    "⚠️ If you're unable to complete previous questions, read **df_q4_start** from folder **\"01_processed_data\"** into the variable df before continue."
   ]
  },
  {
   "cell_type": "code",
   "execution_count": 32,
   "metadata": {},
   "outputs": [],
   "source": [
    "#optional: Load in data processed up to this point\n",
    "df_dataset = pd.read_csv(\"../01_processed_data/df_q4_start.csv\")"
   ]
  },
  {
   "cell_type": "markdown",
   "metadata": {},
   "source": [
    "## 4.1 Specifying the Features and Splitting the Data"
   ]
  },
  {
   "cell_type": "code",
   "execution_count": 33,
   "metadata": {},
   "outputs": [],
   "source": [
    "from sklearn import model_selection\n",
    "from sklearn import metrics"
   ]
  },
  {
   "cell_type": "code",
   "execution_count": 34,
   "metadata": {},
   "outputs": [],
   "source": [
    "target = 'resale_price'"
   ]
  },
  {
   "cell_type": "code",
   "execution_count": 35,
   "metadata": {
    "scrolled": true,
    "tags": []
   },
   "outputs": [],
   "source": [
    "# The df_dummies below is a variable created in Section 3.1.\n",
    "# Make sure you are using the same variable if you have used different variable name in Section 3.1\n",
    "# Otherwise, you do not have to change the code below\n",
    "features_dummies = list(df_dummies.columns)"
   ]
  },
  {
   "cell_type": "code",
   "execution_count": 36,
   "metadata": {},
   "outputs": [],
   "source": [
    "features_numeric = [\n",
    "    'Tranc_Year',\n",
    "    'flat_type_numerized',\n",
    "    'floor_area_sqft',\n",
    "    'diff_from_avg_sqft',\n",
    "    'storey_relative',\n",
    "    'total_dwelling_units',\n",
    "    'flat_type_percent',\n",
    "    'age_approx',\n",
    "    'mrt_nearest_distance',\n",
    "    'mall_nearest_distance'\n",
    "]\n",
    "\n",
    "features = features_numeric + features_dummies"
   ]
  },
  {
   "cell_type": "markdown",
   "metadata": {},
   "source": [
    "> 🔷 **[ Question 4a ]** [2 marks] <br>\n",
    "> We will train our model based on the data before 2021 and test the model on data from 2021.<br>\n",
    "> Split the **df_dataset** into **df_test** and **df_train**."
   ]
  },
  {
   "cell_type": "code",
   "execution_count": 37,
   "metadata": {},
   "outputs": [],
   "source": [
    "df_test = df_dataset[df_dataset['Tranc_Year'] == 2021] # Records from 2021\n",
    "df_train = df_dataset[df_dataset['Tranc_Year'] < 2021] # Records from 2015 to 2020"
   ]
  },
  {
   "cell_type": "code",
   "execution_count": 38,
   "metadata": {
    "deletable": false,
    "editable": false,
    "tags": []
   },
   "outputs": [],
   "source": [
    "# Execute this line, DO NOT Modify\n",
    "df_train = df_train.sample(len(df_train), random_state=2021)"
   ]
  },
  {
   "cell_type": "markdown",
   "metadata": {},
   "source": [
    "> 🔷 **[ Question 4b ]** [4 marks] <br>\n",
    "> For each of the training set and testing set, split it into:\n",
    "> - dataframe contains only the **features** for training\n",
    "> - dataframe contains only the **target** for training\n",
    "> - dataframe contains only the **features** for testing\n",
    "> - dataframe contains only the **target** for testing"
   ]
  },
  {
   "cell_type": "code",
   "execution_count": 39,
   "metadata": {},
   "outputs": [],
   "source": [
    "x_train = df_train[features]\n",
    "y_train = df_train[target]\n",
    "x_test = df_test[features]\n",
    "y_test = df_test[target]"
   ]
  },
  {
   "cell_type": "markdown",
   "metadata": {
    "tags": []
   },
   "source": [
    "## 4.2 Modeling Training and Testing"
   ]
  },
  {
   "cell_type": "code",
   "execution_count": 40,
   "metadata": {},
   "outputs": [],
   "source": [
    "# You're required to use LinearRegression for this section\n",
    "from sklearn.linear_model import LinearRegression"
   ]
  },
  {
   "cell_type": "markdown",
   "metadata": {
    "tags": []
   },
   "source": [
    "> 🔷 **[ Question 4c ]** [5 marks] <br>\n",
    "> Complete the 3 Key Steps: Instantiate, Train, and Predict\n",
    ">\n",
    "> You must use LinearRegression for this question."
   ]
  },
  {
   "cell_type": "code",
   "execution_count": 41,
   "metadata": {},
   "outputs": [],
   "source": [
    "\n",
    "# Instantiate the model \n",
    "model = LinearRegression()\n",
    "\n",
    "# Train the model\n",
    "model.fit(x_train, y_train)\n",
    "\n",
    "# Generate predictions based on the test data set\n",
    "predictions = model.predict(x_test)\n",
    "\n",
    "\n"
   ]
  },
  {
   "cell_type": "markdown",
   "metadata": {},
   "source": [
    "> 🔷 **[ Question 4d ]** [2 marks] <br>\n",
    "> Complete the following cells for calculate the Root Mean Square Error (RMSE)."
   ]
  },
  {
   "cell_type": "code",
   "execution_count": 42,
   "metadata": {},
   "outputs": [
    {
     "name": "stdout",
     "output_type": "stream",
     "text": [
      "About 95% of these predictions are between -130620.05 and 130620.05 of actual resale values\n",
      "About 67% of these predictions are between -65310.03 and 65310.03 of actual resale values\n"
     ]
    }
   ],
   "source": [
    "# Validate the model\n",
    "mse = metrics.mean_squared_error(y_test, predictions)\n",
    "rmse = np.sqrt(mse)\n",
    "\n",
    "print(\"About 95% of these predictions are between -\" + str(np.round(rmse*2, 2)) + \" and \" + str(np.round(rmse*2, 2))\n",
    "      + \" of actual resale values\")\n",
    "\n",
    "print(\"About 67% of these predictions are between -\" + str(np.round(rmse, 2)) + \" and \" + str(np.round(rmse, 2))\n",
    "      + \" of actual resale values\")"
   ]
  },
  {
   "cell_type": "markdown",
   "metadata": {},
   "source": [
    "# Bonus Question"
   ]
  },
  {
   "cell_type": "markdown",
   "metadata": {},
   "source": [
    "> 🔷 **[ Bonus Question ]** [5 Marks for Machine Learning part, Capped at 40 marks] <br>\n",
    "> Create a model with more or different features, to predict **resale_price**, wtih the objective to **improve the model's RMSE** <br>\n",
    "> - Use the same training and testing set from question 4. <br>\n",
    "> - **MUST** use **Linear Regression** algorithm. <br>\n",
    "> - You can create more cells wherever you need to. <br>"
   ]
  },
  {
   "cell_type": "code",
   "execution_count": null,
   "metadata": {},
   "outputs": [],
   "source": []
  },
  {
   "cell_type": "code",
   "execution_count": null,
   "metadata": {},
   "outputs": [],
   "source": []
  },
  {
   "cell_type": "code",
   "execution_count": null,
   "metadata": {},
   "outputs": [],
   "source": []
  },
  {
   "cell_type": "markdown",
   "metadata": {
    "id": "XnWU5fLKZTfa"
   },
   "source": [
    "---\n",
    "⚠️**IMPORTANT: Submission Instruction**\n",
    "\n",
    "- Submit this notebook (.ipynb) on Padlet by uploading this file as an attachment."
   ]
  },
  {
   "cell_type": "code",
   "execution_count": null,
   "metadata": {},
   "outputs": [],
   "source": [
    "Name = \"FILL YOUR NAME HERE\""
   ]
  },
  {
   "cell_type": "markdown",
   "metadata": {
    "id": "6z_zKJBsZTfa",
    "tags": [],
    "trust": true
   },
   "source": [
    "---\n",
    "## END OF CAPSTONE ASSIGNMENT\n",
    "\n",
    "- Well done everyone!"
   ]
  },
  {
   "cell_type": "code",
   "execution_count": null,
   "metadata": {},
   "outputs": [],
   "source": []
  }
 ],
 "metadata": {
  "kernelspec": {
   "display_name": "Python 3 (ipykernel)",
   "language": "python",
   "name": "python3"
  },
  "language_info": {
   "codemirror_mode": {
    "name": "ipython",
    "version": 3
   },
   "file_extension": ".py",
   "mimetype": "text/x-python",
   "name": "python",
   "nbconvert_exporter": "python",
   "pygments_lexer": "ipython3",
   "version": "3.9.12"
  },
  "widgets": {
   "application/vnd.jupyter.widget-state+json": {
    "state": {},
    "version_major": 2,
    "version_minor": 0
   }
  }
 },
 "nbformat": 4,
 "nbformat_minor": 4
}
